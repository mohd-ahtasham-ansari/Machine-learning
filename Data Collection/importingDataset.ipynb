{
 "cells": [
  {
   "cell_type": "markdown",
   "id": "36db9617",
   "metadata": {},
   "source": [
    "# where to collect data"
   ]
  },
  {
   "cell_type": "markdown",
   "id": "2124b9ce",
   "metadata": {},
   "source": [
    "1.Kaggle"
   ]
  },
  {
   "cell_type": "markdown",
   "id": "4a511746",
   "metadata": {},
   "source": [
    "2.UCL machine learning repo"
   ]
  },
  {
   "cell_type": "markdown",
   "id": "8f248fea",
   "metadata": {},
   "source": [
    "3.Google Dataset Search"
   ]
  },
  {
   "cell_type": "markdown",
   "id": "f676e75c",
   "metadata": {},
   "source": [
    "# Importing datset from kaggle API(Application Programming Interface)"
   ]
  },
  {
   "cell_type": "code",
   "execution_count": 1,
   "id": "0e66f41a",
   "metadata": {},
   "outputs": [
    {
     "name": "stdout",
     "output_type": "stream",
     "text": [
      "Collecting kaggle\n",
      "  Downloading kaggle-1.7.4.5-py3-none-any.whl.metadata (16 kB)\n",
      "Requirement already satisfied: bleach in c:\\users\\hp\\appdata\\roaming\\python\\python313\\site-packages (from kaggle) (6.2.0)\n",
      "Requirement already satisfied: certifi>=14.05.14 in c:\\users\\hp\\appdata\\roaming\\python\\python313\\site-packages (from kaggle) (2025.8.3)\n",
      "Requirement already satisfied: charset-normalizer in c:\\users\\hp\\appdata\\roaming\\python\\python313\\site-packages (from kaggle) (3.4.2)\n",
      "Requirement already satisfied: idna in c:\\users\\hp\\appdata\\roaming\\python\\python313\\site-packages (from kaggle) (3.10)\n",
      "Requirement already satisfied: protobuf in c:\\users\\hp\\anaconda3\\lib\\site-packages (from kaggle) (5.29.3)\n",
      "Requirement already satisfied: python-dateutil>=2.5.3 in c:\\users\\hp\\appdata\\roaming\\python\\python313\\site-packages (from kaggle) (2.9.0.post0)\n",
      "Requirement already satisfied: python-slugify in c:\\users\\hp\\anaconda3\\lib\\site-packages (from kaggle) (5.0.2)\n",
      "Requirement already satisfied: requests in c:\\users\\hp\\appdata\\roaming\\python\\python313\\site-packages (from kaggle) (2.32.4)\n",
      "Requirement already satisfied: setuptools>=21.0.0 in c:\\users\\hp\\appdata\\roaming\\python\\python313\\site-packages (from kaggle) (80.9.0)\n",
      "Requirement already satisfied: six>=1.10 in c:\\users\\hp\\appdata\\roaming\\python\\python313\\site-packages (from kaggle) (1.17.0)\n",
      "Requirement already satisfied: text-unidecode in c:\\users\\hp\\anaconda3\\lib\\site-packages (from kaggle) (1.3)\n",
      "Requirement already satisfied: tqdm in c:\\users\\hp\\anaconda3\\lib\\site-packages (from kaggle) (4.67.1)\n",
      "Requirement already satisfied: urllib3>=1.15.1 in c:\\users\\hp\\appdata\\roaming\\python\\python313\\site-packages (from kaggle) (2.5.0)\n",
      "Requirement already satisfied: webencodings in c:\\users\\hp\\appdata\\roaming\\python\\python313\\site-packages (from kaggle) (0.5.1)\n",
      "Requirement already satisfied: colorama in c:\\users\\hp\\appdata\\roaming\\python\\python313\\site-packages (from tqdm->kaggle) (0.4.6)\n",
      "Downloading kaggle-1.7.4.5-py3-none-any.whl (181 kB)\n",
      "Downloading kaggle-1.7.4.5-py3-none-any.whl (181 kB)\n",
      "Installing collected packages: kaggle\n",
      "Successfully installed kaggle-1.7.4.5\n"
     ]
    },
    {
     "name": "stderr",
     "output_type": "stream",
     "text": [
      "WARNING: Retrying (Retry(total=4, connect=None, read=None, redirect=None, status=None)) after connection broken by 'ReadTimeoutError(\"HTTPSConnectionPool(host='pypi.org', port=443): Read timed out. (read timeout=15)\")': /simple/kaggle/\n",
      "WARNING: Connection timed out while downloading.\n",
      "WARNING: Attempting to resume incomplete download (0 bytes/181 kB, attempt 1)\n",
      "WARNING: Retrying (Retry(total=4, connect=None, read=None, redirect=None, status=None)) after connection broken by 'NewConnectionError('<pip._vendor.urllib3.connection.HTTPSConnection object at 0x00000265D59C9090>: Failed to establish a new connection: [Errno 11001] getaddrinfo failed')': /packages/14/83/7f29c7abe0d5dc769dad7da993382c3e4239ad63e1dd58414d129e0a4da2/kaggle-1.7.4.5-py3-none-any.whl\n",
      "WARNING: Retrying (Retry(total=3, connect=None, read=None, redirect=None, status=None)) after connection broken by 'NewConnectionError('<pip._vendor.urllib3.connection.HTTPSConnection object at 0x00000265D5A2E5D0>: Failed to establish a new connection: [Errno 11001] getaddrinfo failed')': /packages/14/83/7f29c7abe0d5dc769dad7da993382c3e4239ad63e1dd58414d129e0a4da2/kaggle-1.7.4.5-py3-none-any.whl\n",
      "WARNING: Retrying (Retry(total=2, connect=None, read=None, redirect=None, status=None)) after connection broken by 'NewConnectionError('<pip._vendor.urllib3.connection.HTTPSConnection object at 0x00000265D5A2E850>: Failed to establish a new connection: [Errno 11001] getaddrinfo failed')': /packages/14/83/7f29c7abe0d5dc769dad7da993382c3e4239ad63e1dd58414d129e0a4da2/kaggle-1.7.4.5-py3-none-any.whl\n",
      "WARNING: Retrying (Retry(total=1, connect=None, read=None, redirect=None, status=None)) after connection broken by 'NewConnectionError('<pip._vendor.urllib3.connection.HTTPSConnection object at 0x00000265D5A2EAD0>: Failed to establish a new connection: [Errno 11001] getaddrinfo failed')': /packages/14/83/7f29c7abe0d5dc769dad7da993382c3e4239ad63e1dd58414d129e0a4da2/kaggle-1.7.4.5-py3-none-any.whl\n"
     ]
    }
   ],
   "source": [
    "# installing kaggle library\n",
    "!pip install kaggle"
   ]
  },
  {
   "cell_type": "markdown",
   "id": "1727a41f",
   "metadata": {},
   "source": [
    "adding kaggle.json file"
   ]
  },
  {
   "cell_type": "code",
   "execution_count": 2,
   "id": "04829470",
   "metadata": {},
   "outputs": [
    {
     "name": "stdout",
     "output_type": "stream",
     "text": [
      "Kaggle.json file is set up successfully!\n"
     ]
    }
   ],
   "source": [
    "# configuring the path of kaggle.json file\n",
    "import os\n",
    "import shutil\n",
    "\n",
    "# Create kaggle folder in your home directory\n",
    "os.makedirs(os.path.expanduser(\"~/.kaggle\"), exist_ok=True)\n",
    "\n",
    "# Copy kaggle.json from your project folder to ~/.kaggle/\n",
    "shutil.copy(\"kaggle.json\", os.path.expanduser(\"~/.kaggle/kaggle.json\"))\n",
    "\n",
    "# Set permissions (needed on Linux/Mac, harmless on Windows)\n",
    "os.chmod(os.path.expanduser(\"~/.kaggle/kaggle.json\"), 0o600)\n",
    "\n",
    "print(\"Kaggle.json file is set up successfully!\")\n"
   ]
  },
  {
   "cell_type": "code",
   "execution_count": 5,
   "id": "3051b525",
   "metadata": {},
   "outputs": [
    {
     "name": "stdout",
     "output_type": "stream",
     "text": [
      "(\"Connection broken: ConnectionAbortedError(10053, 'An established connection was aborted by the software in your host machine', None, 10053, None)\", ConnectionAbortedError(10053, 'An established connection was aborted by the software in your host machine', None, 10053, None))\n"
     ]
    }
   ],
   "source": [
    "# API to fetch dataset from the kaggle\n",
    "!kaggle competitions download -c LANL-Earthquake-Prediction"
   ]
  },
  {
   "cell_type": "markdown",
   "id": "5d58fe9a",
   "metadata": {},
   "source": []
  }
 ],
 "metadata": {
  "kernelspec": {
   "display_name": "base",
   "language": "python",
   "name": "python3"
  },
  "language_info": {
   "codemirror_mode": {
    "name": "ipython",
    "version": 3
   },
   "file_extension": ".py",
   "mimetype": "text/x-python",
   "name": "python",
   "nbconvert_exporter": "python",
   "pygments_lexer": "ipython3",
   "version": "3.13.5"
  }
 },
 "nbformat": 4,
 "nbformat_minor": 5
}
