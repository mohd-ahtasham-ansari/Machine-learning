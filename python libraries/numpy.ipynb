{
 "cells": [
  {
   "cell_type": "markdown",
   "id": "16029ff5",
   "metadata": {},
   "source": [
    "# Numpy"
   ]
  },
  {
   "cell_type": "code",
   "execution_count": 38,
   "id": "649a6d88",
   "metadata": {},
   "outputs": [],
   "source": [
    "import numpy as np"
   ]
  },
  {
   "cell_type": "markdown",
   "id": "06455ee3",
   "metadata": {},
   "source": [
    "numpy arrays\n"
   ]
  },
  {
   "cell_type": "code",
   "execution_count": 39,
   "id": "87152dbc",
   "metadata": {},
   "outputs": [
    {
     "name": "stdout",
     "output_type": "stream",
     "text": [
      "[1, 2, 3, 4, 5, 6]\n"
     ]
    },
    {
     "data": {
      "text/plain": [
       "list"
      ]
     },
     "execution_count": 39,
     "metadata": {},
     "output_type": "execute_result"
    }
   ],
   "source": [
    "#list \n",
    "list1= [1,2,3,4,5,6]\n",
    "print(list1)\n",
    "type(list1)"
   ]
  },
  {
   "cell_type": "code",
   "execution_count": 40,
   "id": "ba92df48",
   "metadata": {},
   "outputs": [
    {
     "name": "stdout",
     "output_type": "stream",
     "text": [
      "[1 2 3 4 5 6]\n"
     ]
    },
    {
     "data": {
      "text/plain": [
       "numpy.ndarray"
      ]
     },
     "execution_count": 40,
     "metadata": {},
     "output_type": "execute_result"
    }
   ],
   "source": [
    "# numpy arrays\n",
    "np_array=np.array([1,2,3,4,5,6])\n",
    "print(np_array)\n",
    "type(np_array)\n"
   ]
  },
  {
   "cell_type": "code",
   "execution_count": 41,
   "id": "3516b2d8",
   "metadata": {},
   "outputs": [
    {
     "name": "stdout",
     "output_type": "stream",
     "text": [
      "[1 2 3 4 5]\n"
     ]
    },
    {
     "data": {
      "text/plain": [
       "(5,)"
      ]
     },
     "execution_count": 41,
     "metadata": {},
     "output_type": "execute_result"
    }
   ],
   "source": [
    "# 1d array\n",
    "a=np.array([1,2,3,4,5])\n",
    "print(a)\n",
    "a.shape"
   ]
  },
  {
   "cell_type": "code",
   "execution_count": 42,
   "id": "b20207f9",
   "metadata": {},
   "outputs": [
    {
     "name": "stdout",
     "output_type": "stream",
     "text": [
      "[[1 2 3 4]\n",
      " [5 6 7 8]]\n"
     ]
    },
    {
     "data": {
      "text/plain": [
       "(2, 4)"
      ]
     },
     "execution_count": 42,
     "metadata": {},
     "output_type": "execute_result"
    }
   ],
   "source": [
    "#2d array\n",
    "b = np.array([(1,2,3,4),(5,6,7,8)])\n",
    "print(b)\n",
    "b.shape"
   ]
  },
  {
   "cell_type": "code",
   "execution_count": 43,
   "id": "50062dbe",
   "metadata": {},
   "outputs": [
    {
     "name": "stdout",
     "output_type": "stream",
     "text": [
      "[[1. 2. 3. 4.]\n",
      " [5. 6. 7. 8.]]\n"
     ]
    }
   ],
   "source": [
    "c=np.array([(1,2,3,4),(5,6,7,8)],dtype=float)\n",
    "print(c)"
   ]
  },
  {
   "cell_type": "markdown",
   "id": "1b343125",
   "metadata": {},
   "source": [
    "initial placeholders in numpy arrays"
   ]
  },
  {
   "cell_type": "code",
   "execution_count": 44,
   "id": "74459f42",
   "metadata": {},
   "outputs": [
    {
     "name": "stdout",
     "output_type": "stream",
     "text": [
      "[[0. 0. 0. 0.]\n",
      " [0. 0. 0. 0.]\n",
      " [0. 0. 0. 0.]]\n"
     ]
    }
   ],
   "source": [
    "#creating a numpy arrays of 0s\n",
    "arr0s=np.zeros((3,4))\n",
    "print(arr0s)"
   ]
  },
  {
   "cell_type": "code",
   "execution_count": 45,
   "id": "d2419acd",
   "metadata": {},
   "outputs": [
    {
     "name": "stdout",
     "output_type": "stream",
     "text": [
      "[[8 8 8 8 8]\n",
      " [8 8 8 8 8]\n",
      " [8 8 8 8 8]\n",
      " [8 8 8 8 8]]\n"
     ]
    }
   ],
   "source": [
    "#creating a numpy array of particular value\n",
    "particular=np.full((4,5),8)\n",
    "print(particular)\n"
   ]
  },
  {
   "cell_type": "code",
   "execution_count": 46,
   "id": "a731ab4b",
   "metadata": {},
   "outputs": [
    {
     "name": "stdout",
     "output_type": "stream",
     "text": [
      "[[1. 1. 1. 1.]\n",
      " [1. 1. 1. 1.]\n",
      " [1. 1. 1. 1.]\n",
      " [1. 1. 1. 1.]]\n"
     ]
    }
   ],
   "source": [
    "#creating a numpy arrays of 1s\n",
    "arr1s=np.ones((4,4))\n",
    "print(arr1s)\n"
   ]
  },
  {
   "cell_type": "code",
   "execution_count": 47,
   "id": "71448a1b",
   "metadata": {},
   "outputs": [
    {
     "name": "stdout",
     "output_type": "stream",
     "text": [
      "[[1. 0. 0. 0.]\n",
      " [0. 1. 0. 0.]\n",
      " [0. 0. 1. 0.]\n",
      " [0. 0. 0. 1.]]\n"
     ]
    }
   ],
   "source": [
    "#creating identity matrix \n",
    "eye=np.eye(4)\n",
    "print(eye)"
   ]
  },
  {
   "cell_type": "code",
   "execution_count": 48,
   "id": "b5eb96c0",
   "metadata": {},
   "outputs": [
    {
     "name": "stdout",
     "output_type": "stream",
     "text": [
      "[[0.06170933 0.3486661  0.25753808 0.10047935 0.94867323]\n",
      " [0.30486329 0.83224297 0.43526799 0.7533912  0.04545654]\n",
      " [0.60592103 0.90603747 0.32776637 0.74455009 0.13805296]\n",
      " [0.44639683 0.83160644 0.32231318 0.23503604 0.05986063]]\n"
     ]
    }
   ],
   "source": [
    "#creating a numpy array of random numbers\n",
    "arrRandom=np.random.random((4,5))\n",
    "print(arrRandom)"
   ]
  },
  {
   "cell_type": "code",
   "execution_count": 49,
   "id": "edcfbbc6",
   "metadata": {},
   "outputs": [
    {
     "name": "stdout",
     "output_type": "stream",
     "text": [
      "[[ 49  15  70  69 109  32]\n",
      " [104  34  64  28  45  97]\n",
      " [ 16  89  62  30  62  40]]\n"
     ]
    }
   ],
   "source": [
    "# creating an numpy array with random no. but specific range\n",
    "a=np.random.randint(10,110,(3,6))\n",
    "print(a)"
   ]
  },
  {
   "cell_type": "code",
   "execution_count": 50,
   "id": "0359a0b8",
   "metadata": {},
   "outputs": [
    {
     "name": "stdout",
     "output_type": "stream",
     "text": [
      "[10. 15. 20. 25. 30.]\n"
     ]
    }
   ],
   "source": [
    "#array of evenly spaced values --> specifying the number of values required\n",
    "n=np.linspace(10,30,5)\n",
    "print(n)\n"
   ]
  },
  {
   "cell_type": "code",
   "execution_count": 51,
   "id": "ee2538ce",
   "metadata": {},
   "outputs": [
    {
     "name": "stdout",
     "output_type": "stream",
     "text": [
      "[10 15 20 25]\n"
     ]
    }
   ],
   "source": [
    "# array of evenly spaced values--> specifying the no of steps\n",
    "ne=np.arange(10,30,5)\n",
    "print(ne)"
   ]
  },
  {
   "cell_type": "markdown",
   "id": "afe4ff4d",
   "metadata": {},
   "source": [
    "# convert a list to nampy array"
   ]
  },
  {
   "cell_type": "code",
   "execution_count": 52,
   "id": "cc1af1e7",
   "metadata": {},
   "outputs": [
    {
     "name": "stdout",
     "output_type": "stream",
     "text": [
      "[10 20 30 30 50]\n"
     ]
    },
    {
     "data": {
      "text/plain": [
       "numpy.ndarray"
      ]
     },
     "execution_count": 52,
     "metadata": {},
     "output_type": "execute_result"
    }
   ],
   "source": [
    "list2=[10,20,30,30,50]\n",
    "np_array=np.asarray(list2)\n",
    "print(np_array)\n",
    "type(np_array)"
   ]
  },
  {
   "cell_type": "markdown",
   "id": "e7824f9a",
   "metadata": {},
   "source": [
    "# analysing numpy arrays"
   ]
  },
  {
   "cell_type": "code",
   "execution_count": 53,
   "id": "21aefd5b",
   "metadata": {},
   "outputs": [
    {
     "name": "stdout",
     "output_type": "stream",
     "text": [
      "[[30 24 55 47 88]\n",
      " [16 23 73 67 83]\n",
      " [84 70 68 31 25]\n",
      " [43 48 56 78 10]]\n"
     ]
    }
   ],
   "source": [
    "np=np.random.randint(10,90,(4,5))\n",
    "print(np)"
   ]
  },
  {
   "cell_type": "code",
   "execution_count": 54,
   "id": "a7f5fd05",
   "metadata": {},
   "outputs": [
    {
     "data": {
      "text/plain": [
       "(4, 5)"
      ]
     },
     "execution_count": 54,
     "metadata": {},
     "output_type": "execute_result"
    }
   ],
   "source": [
    "# array dimension\n",
    "np.shape"
   ]
  },
  {
   "cell_type": "code",
   "execution_count": 55,
   "id": "6b136e86",
   "metadata": {},
   "outputs": [
    {
     "name": "stdout",
     "output_type": "stream",
     "text": [
      "2\n"
     ]
    }
   ],
   "source": [
    "#number of dimension\n",
    "\n",
    "print(np.ndim) "
   ]
  },
  {
   "cell_type": "code",
   "execution_count": 56,
   "id": "e8fe5126",
   "metadata": {},
   "outputs": [
    {
     "name": "stdout",
     "output_type": "stream",
     "text": [
      "20\n"
     ]
    }
   ],
   "source": [
    "#number od elements in an array\n",
    "print(np.size)"
   ]
  },
  {
   "cell_type": "code",
   "execution_count": 57,
   "id": "acbaf45c",
   "metadata": {},
   "outputs": [
    {
     "name": "stdout",
     "output_type": "stream",
     "text": [
      "int32\n"
     ]
    }
   ],
   "source": [
    "# checking the datatypes of the values of an array\n",
    "print(np.dtype)"
   ]
  },
  {
   "cell_type": "markdown",
   "id": "40690ad4",
   "metadata": {},
   "source": [
    "# mathematical operation on numpy arrays"
   ]
  }
 ],
 "metadata": {
  "kernelspec": {
   "display_name": "base",
   "language": "python",
   "name": "python3"
  },
  "language_info": {
   "codemirror_mode": {
    "name": "ipython",
    "version": 3
   },
   "file_extension": ".py",
   "mimetype": "text/x-python",
   "name": "python",
   "nbconvert_exporter": "python",
   "pygments_lexer": "ipython3",
   "version": "3.13.5"
  }
 },
 "nbformat": 4,
 "nbformat_minor": 5
}
