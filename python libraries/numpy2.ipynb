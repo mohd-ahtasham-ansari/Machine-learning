{
 "cells": [
  {
   "cell_type": "markdown",
   "id": "5b0103e8",
   "metadata": {},
   "source": [
    "# mathematical operation on numpy arrays\n"
   ]
  },
  {
   "cell_type": "code",
   "execution_count": 1,
   "id": "1e97e49c",
   "metadata": {},
   "outputs": [],
   "source": [
    "import numpy as np"
   ]
  },
  {
   "cell_type": "code",
   "execution_count": null,
   "id": "66d5b41b",
   "metadata": {},
   "outputs": [
    {
     "name": "stdout",
     "output_type": "stream",
     "text": [
      "[1, 2, 3, 4, 5, 6, 7, 8, 9, 10]\n"
     ]
    }
   ],
   "source": [
    "list1=[1,2,3,4,5]\n",
    "list2=[6,7,8,9,10]\n",
    "\n",
    "print(list1 + list2) #concatenate two list"
   ]
  },
  {
   "cell_type": "code",
   "execution_count": 4,
   "id": "c5fa0aa3",
   "metadata": {},
   "outputs": [
    {
     "name": "stdout",
     "output_type": "stream",
     "text": [
      "[[5 2 2]\n",
      " [4 3 3]\n",
      " [6 4 0]]\n",
      "\n",
      "[[11 15 10]\n",
      " [17 17 13]\n",
      " [17 15 10]]\n"
     ]
    }
   ],
   "source": [
    "arnd=np.random.randint(0,10,(3,3))\n",
    "brnd=np.random.randint(10,20,(3,3))\n",
    "print(arnd)\n",
    "print()\n",
    "print(brnd)"
   ]
  },
  {
   "cell_type": "code",
   "execution_count": 5,
   "id": "279b3b0f",
   "metadata": {},
   "outputs": [
    {
     "name": "stdout",
     "output_type": "stream",
     "text": [
      "Addition of numpy array\n",
      "[[16 17 12]\n",
      " [21 20 16]\n",
      " [23 19 10]]\n",
      "subtraction\n",
      "[[ -6 -13  -8]\n",
      " [-13 -14 -10]\n",
      " [-11 -11 -10]]\n",
      "multiplication\n",
      "[[ 55  30  20]\n",
      " [ 68  51  39]\n",
      " [102  60   0]]\n",
      "division \n",
      "[[0.45454545 0.13333333 0.2       ]\n",
      " [0.23529412 0.17647059 0.23076923]\n",
      " [0.35294118 0.26666667 0.        ]]\n"
     ]
    }
   ],
   "source": [
    "print(\"Addition of numpy array\")\n",
    "print(arnd + brnd)\n",
    "print(\"subtraction\")\n",
    "print(arnd-brnd)\n",
    "print(\"multiplication\")\n",
    "print(arnd*brnd)\n",
    "print(\"division \")\n",
    "print(arnd / brnd)"
   ]
  },
  {
   "cell_type": "code",
   "execution_count": 7,
   "id": "35ad7fdf",
   "metadata": {},
   "outputs": [],
   "source": [
    "a=np.random.randint(0,10,(3,3))\n",
    "b=np.random.randint(10,20,(3,3))\n"
   ]
  },
  {
   "cell_type": "code",
   "execution_count": 8,
   "id": "5718bd6e",
   "metadata": {},
   "outputs": [
    {
     "name": "stdout",
     "output_type": "stream",
     "text": [
      "[[1 3 1]\n",
      " [7 7 3]\n",
      " [5 1 2]]\n",
      "[[10 12 19]\n",
      " [12 16 13]\n",
      " [13 10 15]]\n"
     ]
    }
   ],
   "source": [
    "print(a)\n",
    "print(b)"
   ]
  },
  {
   "cell_type": "code",
   "execution_count": 9,
   "id": "0178fe51",
   "metadata": {},
   "outputs": [
    {
     "name": "stdout",
     "output_type": "stream",
     "text": [
      "[[11 15 20]\n",
      " [19 23 16]\n",
      " [18 11 17]]\n",
      "[[ -9  -9 -18]\n",
      " [ -5  -9 -10]\n",
      " [ -8  -9 -13]]\n",
      "[[ 10  36  19]\n",
      " [ 84 112  39]\n",
      " [ 65  10  30]]\n",
      "[[0.1        0.25       0.05263158]\n",
      " [0.58333333 0.4375     0.23076923]\n",
      " [0.38461538 0.1        0.13333333]]\n"
     ]
    }
   ],
   "source": [
    "print(np.add(a,b))\n",
    "print(np.subtract(a,b))\n",
    "print(np.multiply(a,b))\n",
    "print(np.divide(a,b))"
   ]
  },
  {
   "cell_type": "markdown",
   "id": "07bbcaae",
   "metadata": {},
   "source": [
    "ARRAY MANUPULATION "
   ]
  },
  {
   "cell_type": "code",
   "execution_count": 10,
   "id": "2439f4af",
   "metadata": {},
   "outputs": [
    {
     "name": "stdout",
     "output_type": "stream",
     "text": [
      "[[8 5 2]\n",
      " [1 3 4]]\n",
      "(2, 3)\n"
     ]
    },
    {
     "data": {
      "text/plain": [
       "numpy.ndarray"
      ]
     },
     "execution_count": 10,
     "metadata": {},
     "output_type": "execute_result"
    }
   ],
   "source": [
    "array=np.random.randint(0,10,(2,3))\n",
    "print(array)\n",
    "print(array.shape)\n",
    "type(array)"
   ]
  },
  {
   "cell_type": "code",
   "execution_count": 11,
   "id": "fd4118c6",
   "metadata": {},
   "outputs": [
    {
     "name": "stdout",
     "output_type": "stream",
     "text": [
      "[[8 1]\n",
      " [5 3]\n",
      " [2 4]]\n",
      "(3, 2)\n"
     ]
    }
   ],
   "source": [
    "# transpose of matrix\n",
    "trans=np.transpose(array)\n",
    "print(trans)\n",
    "print(trans.shape)"
   ]
  },
  {
   "cell_type": "code",
   "execution_count": 12,
   "id": "b0090f25",
   "metadata": {},
   "outputs": [
    {
     "name": "stdout",
     "output_type": "stream",
     "text": [
      "[[8 1]\n",
      " [5 3]\n",
      " [2 4]]\n",
      "(3, 2)\n"
     ]
    }
   ],
   "source": [
    "trans2=array.T\n",
    "print(trans2)\n",
    "print(trans2.shape)"
   ]
  },
  {
   "cell_type": "code",
   "execution_count": 18,
   "id": "72e8a6e4",
   "metadata": {},
   "outputs": [
    {
     "name": "stdout",
     "output_type": "stream",
     "text": [
      "[[6 8 4]\n",
      " [8 1 8]]\n",
      "(2, 3)\n"
     ]
    }
   ],
   "source": [
    "#reshaping array\n",
    "aa=np.random.randint(0,10,(2,3))\n",
    "print(aa)\n",
    "print(aa.shape)"
   ]
  },
  {
   "cell_type": "code",
   "execution_count": 19,
   "id": "241d255d",
   "metadata": {},
   "outputs": [
    {
     "name": "stdout",
     "output_type": "stream",
     "text": [
      "[[6 8]\n",
      " [4 8]\n",
      " [1 8]]\n"
     ]
    }
   ],
   "source": [
    "bb=aa.reshape(3,2)\n",
    "print(bb)"
   ]
  }
 ],
 "metadata": {
  "kernelspec": {
   "display_name": "base",
   "language": "python",
   "name": "python3"
  },
  "language_info": {
   "codemirror_mode": {
    "name": "ipython",
    "version": 3
   },
   "file_extension": ".py",
   "mimetype": "text/x-python",
   "name": "python",
   "nbconvert_exporter": "python",
   "pygments_lexer": "ipython3",
   "version": "3.13.5"
  }
 },
 "nbformat": 4,
 "nbformat_minor": 5
}
