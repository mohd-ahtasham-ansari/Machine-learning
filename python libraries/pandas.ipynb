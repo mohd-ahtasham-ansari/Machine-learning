{
 "cells": [
  {
   "cell_type": "markdown",
   "id": "e8fae0d3",
   "metadata": {},
   "source": [
    "# Pandas library"
   ]
  },
  {
   "cell_type": "markdown",
   "id": "0169e893",
   "metadata": {},
   "source": [
    "useful for data processing and analysis"
   ]
  },
  {
   "cell_type": "markdown",
   "id": "b6bfe1c0",
   "metadata": {},
   "source": [
    "Pandas DataFrame:"
   ]
  },
  {
   "cell_type": "markdown",
   "id": "33c21f0b",
   "metadata": {},
   "source": [
    "pandas DataFrame is a 2 dimentional tabular data structure with labelled axes(rows and columns)"
   ]
  },
  {
   "cell_type": "markdown",
   "id": "d69321e4",
   "metadata": {},
   "source": []
  }
 ],
 "metadata": {
  "language_info": {
   "name": "python"
  }
 },
 "nbformat": 4,
 "nbformat_minor": 5
}
