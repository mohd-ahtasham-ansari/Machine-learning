{
 "cells": [
  {
   "cell_type": "markdown",
   "id": "59bb5ed2",
   "metadata": {},
   "source": [
    "# SEABORN"
   ]
  },
  {
   "cell_type": "markdown",
   "id": "70ceb787",
   "metadata": {},
   "source": [
    ">DATA visvualisation libarary"
   ]
  },
  {
   "cell_type": "markdown",
   "id": "c0c79793",
   "metadata": {},
   "source": []
  }
 ],
 "metadata": {
  "language_info": {
   "name": "python"
  }
 },
 "nbformat": 4,
 "nbformat_minor": 5
}
