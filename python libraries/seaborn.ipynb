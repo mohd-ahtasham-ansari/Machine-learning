{
 "cells": [
  {
   "cell_type": "markdown",
   "id": "59bb5ed2",
   "metadata": {},
   "source": [
    "# SEABORN"
   ]
  },
  {
   "cell_type": "markdown",
   "id": "70ceb787",
   "metadata": {},
   "source": [
    ">DATA visvualisation libarary"
   ]
  },
  {
   "cell_type": "markdown",
   "id": "c0c79793",
   "metadata": {},
   "source": [
    "importing library\n"
   ]
  },
  {
   "cell_type": "code",
   "execution_count": 1,
   "id": "2e6eeac8",
   "metadata": {},
   "outputs": [],
   "source": [
    "import seaborn as sns\n",
    "import matplotlib.pyplot as plt\n",
    "import pandas as pd\n",
    "import numpy as np\n"
   ]
  },
  {
   "cell_type": "markdown",
   "id": "8fb59529",
   "metadata": {},
   "source": []
  }
 ],
 "metadata": {
  "kernelspec": {
   "display_name": "base",
   "language": "python",
   "name": "python3"
  },
  "language_info": {
   "codemirror_mode": {
    "name": "ipython",
    "version": 3
   },
   "file_extension": ".py",
   "mimetype": "text/x-python",
   "name": "python",
   "nbconvert_exporter": "python",
   "pygments_lexer": "ipython3",
   "version": "3.13.5"
  }
 },
 "nbformat": 4,
 "nbformat_minor": 5
}
